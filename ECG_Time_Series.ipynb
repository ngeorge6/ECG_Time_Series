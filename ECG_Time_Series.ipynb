{
 "cells": [
  {
   "cell_type": "code",
   "execution_count": 1,
   "metadata": {
    "colab": {
     "base_uri": "https://localhost:8080/",
     "height": 376
    },
    "colab_type": "code",
    "executionInfo": {
     "elapsed": 133266,
     "status": "ok",
     "timestamp": 1573867797327,
     "user": {
      "displayName": "Nithin George",
      "photoUrl": "",
      "userId": "01993130238656705094"
     },
     "user_tz": 420
    },
    "id": "w1hDk9hDvOH7",
    "outputId": "1ad62a7e-055d-46b7-9e09-faac5c3beab8"
   },
   "outputs": [
    {
     "name": "stdout",
     "output_type": "stream",
     "text": [
      "Collecting vecstack\n",
      "  Downloading https://files.pythonhosted.org/packages/d0/a1/b9a1e9e9e5a12078da1ab9788c7885e4c745358f7e57d5f94d9db6a4e898/vecstack-0.4.0.tar.gz\n",
      "Requirement already satisfied: numpy in /usr/local/lib/python3.6/dist-packages (from vecstack) (1.17.4)\n",
      "Requirement already satisfied: scipy in /usr/local/lib/python3.6/dist-packages (from vecstack) (1.3.2)\n",
      "Requirement already satisfied: scikit-learn>=0.18 in /usr/local/lib/python3.6/dist-packages (from vecstack) (0.21.3)\n",
      "Requirement already satisfied: joblib>=0.11 in /usr/local/lib/python3.6/dist-packages (from scikit-learn>=0.18->vecstack) (0.14.0)\n",
      "Building wheels for collected packages: vecstack\n",
      "  Building wheel for vecstack (setup.py) ... \u001b[?25l\u001b[?25hdone\n",
      "  Created wheel for vecstack: filename=vecstack-0.4.0-cp36-none-any.whl size=19879 sha256=96a9c01ebfbf67246850a8510dfd414e061dabab3a6dbf0ec5417c5db3a3cba1\n",
      "  Stored in directory: /root/.cache/pip/wheels/5f/bb/4e/f6488433d53bc0684673d6845e5bf11a25240577c8151c140e\n",
      "Successfully built vecstack\n",
      "Installing collected packages: vecstack\n",
      "Successfully installed vecstack-0.4.0\n",
      "Go to this URL in a browser: https://accounts.google.com/o/oauth2/auth?client_id=947318989803-6bn6qk8qdgf4n4g3pfee6491hc0brc4i.apps.googleusercontent.com&redirect_uri=urn%3aietf%3awg%3aoauth%3a2.0%3aoob&response_type=code&scope=email%20https%3a%2f%2fwww.googleapis.com%2fauth%2fdocs.test%20https%3a%2f%2fwww.googleapis.com%2fauth%2fdrive%20https%3a%2f%2fwww.googleapis.com%2fauth%2fdrive.photos.readonly%20https%3a%2f%2fwww.googleapis.com%2fauth%2fpeopleapi.readonly\n",
      "\n",
      "Enter your authorization code:\n",
      "··········\n",
      "Mounted at /gdrive\n",
      "/gdrive\n"
     ]
    }
   ],
   "source": [
    "!pip install vecstack\n",
    "\n",
    "from vecstack import stacking\n",
    "import pandas as pd\n",
    "import numpy as np\n",
    "\n",
    "\n",
    "from sklearn.ensemble import RandomForestRegressor\n",
    "from sklearn.tree import DecisionTreeRegressor\n",
    "from sklearn.ensemble import GradientBoostingRegressor\n",
    "from sklearn.neural_network import MLPRegressor\n",
    "from sklearn.metrics import mean_squared_error\n",
    "from sklearn.model_selection import GridSearchCV\n",
    "from sklearn.model_selection import RandomizedSearchCV\n",
    "from sklearn.model_selection import cross_val_score\n",
    "\n",
    "import warnings\n",
    "warnings.filterwarnings(\"ignore\")\n",
    "\n",
    "from google.colab import drive\n",
    "drive.mount('/gdrive')\n",
    "#Change current working directory to gdrive\n",
    "%cd /gdrive\n",
    "\n"
   ]
  },
  {
   "cell_type": "code",
   "execution_count": 4,
   "metadata": {
    "colab": {
     "base_uri": "https://localhost:8080/",
     "height": 53
    },
    "colab_type": "code",
    "executionInfo": {
     "elapsed": 2563,
     "status": "ok",
     "timestamp": 1573867814035,
     "user": {
      "displayName": "Nithin George",
      "photoUrl": "",
      "userId": "01993130238656705094"
     },
     "user_tz": 420
    },
    "id": "BMwGQK7KAd7T",
    "outputId": "aa2fc86e-b29d-4e25-ac58-298474984cbe"
   },
   "outputs": [
    {
     "name": "stdout",
     "output_type": "stream",
     "text": [
      "(750, 1001)\n",
      "(150, 1001)\n"
     ]
    }
   ],
   "source": [
    "trainfile = r'/gdrive/My Drive/CIS 508/Class/Week4/ECG-TRAIN-1.csv'\n",
    "trainData = pd.read_csv(trainfile) #creates a dataframe\n",
    "testfile = r'/gdrive/My Drive/CIS 508/Class/Week4/ECG-TEST-1.csv'\n",
    "testData = pd.read_csv(testfile)  #creates a dataframe\n",
    "\n",
    "\n",
    "print(trainData.shape)\n",
    "print(testData.shape)\n",
    "\n"
   ]
  },
  {
   "cell_type": "code",
   "execution_count": 5,
   "metadata": {
    "colab": {
     "base_uri": "https://localhost:8080/",
     "height": 53
    },
    "colab_type": "code",
    "executionInfo": {
     "elapsed": 1075,
     "status": "ok",
     "timestamp": 1573867818688,
     "user": {
      "displayName": "Nithin George",
      "photoUrl": "",
      "userId": "01993130238656705094"
     },
     "user_tz": 420
    },
    "id": "SWOTk6C1Ao45",
    "outputId": "7c03a06e-d7fa-4e1d-e059-d9355a9ab8cd"
   },
   "outputs": [
    {
     "name": "stdout",
     "output_type": "stream",
     "text": [
      "(750, 1000)\n",
      "(150, 1000)\n"
     ]
    }
   ],
   "source": [
    "#Extract training and test data\n",
    "y_train = trainData[\"TARGET\"]\n",
    "X_train = trainData.drop([\"TARGET\"], axis=1) #extracting training data without the target column\n",
    "y_test = testData[\"TARGET\"]\n",
    "X_test = testData.drop([\"TARGET\"], axis=1) #extracting training data without the target column\n",
    "\n",
    "print(X_train.shape)\n",
    "print(X_test.shape)\n"
   ]
  },
  {
   "cell_type": "code",
   "execution_count": 6,
   "metadata": {
    "colab": {
     "base_uri": "https://localhost:8080/",
     "height": 53
    },
    "colab_type": "code",
    "executionInfo": {
     "elapsed": 1079,
     "status": "ok",
     "timestamp": 1573867825867,
     "user": {
      "displayName": "Nithin George",
      "photoUrl": "",
      "userId": "01993130238656705094"
     },
     "user_tz": 420
    },
    "id": "-Yd724taAv3o",
    "outputId": "c0091299-c9e5-43af-aee1-67c8eca2df0e"
   },
   "outputs": [
    {
     "name": "stdout",
     "output_type": "stream",
     "text": [
      "RMSE (training) for Decision Tree:  0.000000\n",
      "RMSE (Test Data) for Decision Tree:  0.002437\n"
     ]
    }
   ],
   "source": [
    "#Decision Tree Regressor ========================================================================\n",
    "#CONSTRUCT DEFAULT DECISION TREE AND OBTAIN RESPECTIVE ACCURACY \n",
    "clf = DecisionTreeRegressor()\n",
    "clf.fit(X_train, y_train)\n",
    "clf_predict_Train=clf.predict(X_train)\n",
    "\n",
    "#clf.feature_importances_\n",
    "mean_squared_error(y_train,clf_predict_Train)\n",
    "print(\"RMSE (training) for Decision Tree:{0:10f}\".format(mean_squared_error(y_train,clf_predict_Train)))\n",
    "clf_predict_Test=clf.predict(X_test)\n",
    "mean_squared_error(y_test,clf_predict_Test)\n",
    "print(\"RMSE (Test Data) for Decision Tree:{0:10f}\".format(mean_squared_error(y_test,clf_predict_Test)))\n"
   ]
  },
  {
   "cell_type": "code",
   "execution_count": 0,
   "metadata": {
    "colab": {},
    "colab_type": "code",
    "id": "ZbHRfy6u0Bu5"
   },
   "outputs": [],
   "source": [
    "#Save predictions\n",
    "df_DT=pd.DataFrame()\n",
    "df_DT['TARGET']=clf_predict_Test\n",
    "export_csv = df_DT.to_csv(r'/gdrive/My Drive/CIS 508/Class/Week4/DT_Test.csv')\n"
   ]
  },
  {
   "cell_type": "code",
   "execution_count": 9,
   "metadata": {
    "colab": {
     "base_uri": "https://localhost:8080/",
     "height": 53
    },
    "colab_type": "code",
    "executionInfo": {
     "elapsed": 3998,
     "status": "ok",
     "timestamp": 1573867872369,
     "user": {
      "displayName": "Nithin George",
      "photoUrl": "",
      "userId": "01993130238656705094"
     },
     "user_tz": 420
    },
    "id": "M9KXPcUtBE_E",
    "outputId": "eff73c0b-5e03-4645-949e-67c1ea2a48ad"
   },
   "outputs": [
    {
     "name": "stdout",
     "output_type": "stream",
     "text": [
      "RMSE (training) for Decision Tree:  0.000175\n",
      "RMSE (Test Data) for Decision Tree:  0.001396\n"
     ]
    }
   ],
   "source": [
    "#Random Forest Regressor==============================================================================\n",
    "#=================================================================================================\n",
    "\n",
    "rfc = RandomForestRegressor()\n",
    "rfc.fit(X_train, y_train)\n",
    "rfc_predict_Train=rfc.predict(X_train)\n",
    "\n",
    "mean_squared_error(y_train,rfc_predict_Train)\n",
    "print(\"RMSE (training) for Decision Tree:{0:10f}\".format(mean_squared_error(y_train,rfc_predict_Train)))\n",
    "rfc_predict_Test=rfc.predict(X_test)\n",
    "mean_squared_error(y_test,rfc_predict_Test)\n",
    "print(\"RMSE (Test Data) for Decision Tree:{0:10f}\".format(mean_squared_error(y_test,rfc_predict_Test)))\n",
    "\n"
   ]
  },
  {
   "cell_type": "code",
   "execution_count": 0,
   "metadata": {
    "colab": {},
    "colab_type": "code",
    "id": "3PvfF2iAUU2I"
   },
   "outputs": [],
   "source": [
    "#Save predictions\n",
    "df_rfc=pd.DataFrame()\n",
    "df_rfc['TARGET']=rfc_predict_Test\n",
    "export_csv = df_rfc.to_csv(r'/gdrive/My Drive/CIS 508/Class/Week4/RF_Test.csv')"
   ]
  },
  {
   "cell_type": "code",
   "execution_count": 11,
   "metadata": {
    "colab": {
     "base_uri": "https://localhost:8080/",
     "height": 53
    },
    "colab_type": "code",
    "executionInfo": {
     "elapsed": 5714,
     "status": "ok",
     "timestamp": 1573867887411,
     "user": {
      "displayName": "Nithin George",
      "photoUrl": "",
      "userId": "01993130238656705094"
     },
     "user_tz": 420
    },
    "id": "r3D-s71uBJJJ",
    "outputId": "20a57dc9-ad98-4b2d-d836-65048340accc"
   },
   "outputs": [
    {
     "name": "stdout",
     "output_type": "stream",
     "text": [
      "RMSE (training) for Decision Tree:  0.000073\n",
      "RMSE (Test Data) for Decision Tree:  0.001396\n"
     ]
    }
   ],
   "source": [
    "#Gradient Boosting Regressor================================================================================\n",
    "\n",
    "abc =GradientBoostingRegressor()\n",
    "abc.fit(X_train, y_train)\n",
    "abc_predict_Train=abc.predict(X_train)\n",
    "\n",
    "mean_squared_error(y_train,abc_predict_Train)\n",
    "print(\"RMSE (training) for Decision Tree:{0:10f}\".format(mean_squared_error(y_train,abc_predict_Train)))\n",
    "abc_predict_Test=rfc.predict(X_test)\n",
    "mean_squared_error(y_test,abc_predict_Test)\n",
    "print(\"RMSE (Test Data) for Decision Tree:{0:10f}\".format(mean_squared_error(y_test,abc_predict_Test)))\n",
    "\n",
    "\n"
   ]
  },
  {
   "cell_type": "code",
   "execution_count": 0,
   "metadata": {
    "colab": {},
    "colab_type": "code",
    "id": "wwmX8AEOXvsA"
   },
   "outputs": [],
   "source": [
    "#Save predictions\n",
    "df_abc=pd.DataFrame()\n",
    "df_abc['TARGET']=abc_predict_Test\n",
    "export_csv = df_abc.to_csv(r'/gdrive/My Drive/CIS 508/Class/Week4/GB_Test.csv')"
   ]
  },
  {
   "cell_type": "code",
   "execution_count": 13,
   "metadata": {
    "colab": {
     "base_uri": "https://localhost:8080/",
     "height": 642
    },
    "colab_type": "code",
    "executionInfo": {
     "elapsed": 26691,
     "status": "ok",
     "timestamp": 1573867925448,
     "user": {
      "displayName": "Nithin George",
      "photoUrl": "",
      "userId": "01993130238656705094"
     },
     "user_tz": 420
    },
    "id": "MaI-s2FOetIf",
    "outputId": "b76efb4f-94b7-46f3-e44a-f6f38be671b6"
   },
   "outputs": [
    {
     "name": "stdout",
     "output_type": "stream",
     "text": [
      "___________________________________________________________________________________________\n",
      "Ensemble Methods Predictions using GradientBoosting, RandomForest and Decision Tree Classifier\n",
      "\n",
      "task:         [regression]\n",
      "metric:       [mean_absolute_error]\n",
      "mode:         [oof_pred_bag]\n",
      "n_models:     [3]\n",
      "\n",
      "model  0:     [GradientBoostingRegressor]\n",
      "    fold  0:  [0.02552533]\n",
      "    fold  1:  [0.01819104]\n",
      "    fold  2:  [0.01591510]\n",
      "    fold  3:  [0.01786480]\n",
      "    ----\n",
      "    MEAN:     [0.01937407] + [0.00365650]\n",
      "    FULL:     [0.01938069]\n",
      "\n",
      "model  1:     [RandomForestRegressor]\n",
      "    fold  0:  [0.02522340]\n",
      "    fold  1:  [0.01987843]\n",
      "    fold  2:  [0.01743340]\n",
      "    fold  3:  [0.02087914]\n",
      "    ----\n",
      "    MEAN:     [0.02085359] + [0.00281712]\n",
      "    FULL:     [0.02085812]\n",
      "\n",
      "model  2:     [DecisionTreeRegressor]\n",
      "    fold  0:  [0.03598404]\n",
      "    fold  1:  [0.02359043]\n",
      "    fold  2:  [0.02308556]\n",
      "    fold  3:  [0.02417112]\n",
      "    ----\n",
      "    MEAN:     [0.02670779] + [0.00536941]\n",
      "    FULL:     [0.02671600]\n",
      "\n"
     ]
    }
   ],
   "source": [
    "#STACKING MODELS =====================================================================\n",
    "print(\"___________________________________________________________________________________________\\nEnsemble Methods Predictions using GradientBoosting, RandomForest and Decision Tree Classifier\\n\")\n",
    "\n",
    "models = [ GradientBoostingRegressor(), RandomForestRegressor(), DecisionTreeRegressor() ]\n",
    "      \n",
    "S_Train, S_Test = stacking(models,                   \n",
    "                           X_train, y_train, X_test,   \n",
    "                           regression=True, \n",
    "     \n",
    "                           mode='oof_pred_bag', \n",
    "       \n",
    "                           needs_proba=False,\n",
    "         \n",
    "                           save_dir=None, \n",
    "                                        \n",
    "                           n_folds=4, \n",
    "                                                    \n",
    "                           verbose=2)\n",
    "\n"
   ]
  },
  {
   "cell_type": "code",
   "execution_count": 0,
   "metadata": {
    "colab": {},
    "colab_type": "code",
    "id": "IBjpxzGXgZ_c"
   },
   "outputs": [],
   "source": [
    "#STACKING - CONTRUCT A GRADIENT BOOSTING MODEL==============================\n",
    "model = GradientBoostingRegressor()\n",
    "    \n",
    "model = model.fit(S_Train, y_train)\n",
    "y_pred_train = model.predict(S_Train)\n",
    "y_pred_test = model.predict(S_Test)\n",
    "\n"
   ]
  },
  {
   "cell_type": "code",
   "execution_count": 16,
   "metadata": {
    "colab": {
     "base_uri": "https://localhost:8080/",
     "height": 53
    },
    "colab_type": "code",
    "executionInfo": {
     "elapsed": 868,
     "status": "ok",
     "timestamp": 1573867998464,
     "user": {
      "displayName": "Nithin George",
      "photoUrl": "",
      "userId": "01993130238656705094"
     },
     "user_tz": 420
    },
    "id": "OvYtRVvbg84A",
    "outputId": "8d8dcf3a-ed39-4d69-acd4-15fe6441e7e8"
   },
   "outputs": [
    {
     "name": "stdout",
     "output_type": "stream",
     "text": [
      "RMSE (training) for Decision Tree:  0.000457\n",
      "RMSE (Test Data) for Decision Tree:  0.000803\n"
     ]
    }
   ],
   "source": [
    "mean_squared_error(y_train,y_pred_train)\n",
    "print(\"RMSE (training) for Decision Tree:{0:10f}\".format(mean_squared_error(y_train,y_pred_train)))\n",
    "mean_squared_error(y_test,y_pred_test)\n",
    "print(\"RMSE (Test Data) for Decision Tree:{0:10f}\".format(mean_squared_error(y_test,y_pred_test)))\n",
    "#after stacking, you should get improved results"
   ]
  },
  {
   "cell_type": "code",
   "execution_count": 0,
   "metadata": {
    "colab": {},
    "colab_type": "code",
    "id": "J51JbjDyiGET"
   },
   "outputs": [],
   "source": [
    "#Save predictions\n",
    "df_stacking=pd.DataFrame()\n",
    "df_stacking['TARGET']=y_pred_test\n",
    "export_csv = df_rfc.to_csv(r'/gdrive/My Drive/CIS 508/Class/Week4/Stacking_Test.csv')"
   ]
  }
 ],
 "metadata": {
  "accelerator": "GPU",
  "colab": {
   "collapsed_sections": [],
   "name": "ECG_Time_Series.ipynb",
   "provenance": []
  },
  "kernelspec": {
   "display_name": "Python 3",
   "language": "python",
   "name": "python3"
  },
  "language_info": {
   "codemirror_mode": {
    "name": "ipython",
    "version": 3
   },
   "file_extension": ".py",
   "mimetype": "text/x-python",
   "name": "python",
   "nbconvert_exporter": "python",
   "pygments_lexer": "ipython3",
   "version": "3.7.4"
  }
 },
 "nbformat": 4,
 "nbformat_minor": 1
}
